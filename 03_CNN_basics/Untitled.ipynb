{
 "cells": [
  {
   "cell_type": "markdown",
   "metadata": {},
   "source": [
    "## 一、LeNet网络结构\n",
    "\n",
    "![https://gypsy-1255824480.cos.ap-beijing.myqcloud.com/blog/LeNet.png](https://gypsy-1255824480.cos.ap-beijing.myqcloud.com/blog/LeNet.png)"
   ]
  },
  {
   "cell_type": "markdown",
   "metadata": {},
   "source": [
    "## 二、网络参数\n",
    "\n",
    "layer name\tkernel size\toutput size\n",
    "输入层\t\\\t32x32\n",
    "卷积层1\t5x5\t6x28x28\n",
    "MaxPool1\t2x2, stride=2\t6x14x14\n",
    "卷积层2\t5x5\t16x10x10\n",
    "MaxPool2\t2x2, stride=2\t16x5x5\n",
    "全连接层1\t16x5x5\t120\n",
    "全连接层2\t120\t84\n",
    "输出层\t84\t10\n"
   ]
  }
 ],
 "metadata": {
  "kernelspec": {
   "display_name": "Python [conda env:gzt]",
   "language": "python",
   "name": "conda-env-gzt-py"
  },
  "language_info": {
   "codemirror_mode": {
    "name": "ipython",
    "version": 3
   },
   "file_extension": ".py",
   "mimetype": "text/x-python",
   "name": "python",
   "nbconvert_exporter": "python",
   "pygments_lexer": "ipython3",
   "version": "3.7.5"
  }
 },
 "nbformat": 4,
 "nbformat_minor": 2
}
