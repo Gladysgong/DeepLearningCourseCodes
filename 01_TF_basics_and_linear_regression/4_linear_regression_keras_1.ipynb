{
 "cells": [
  {
   "cell_type": "markdown",
   "metadata": {},
   "source": [
    "参考：https://www.soinside.com/question/RVXmV6GAo5Hs4Kj4QrYXTe"
   ]
  },
  {
   "cell_type": "code",
   "execution_count": 7,
   "metadata": {
    "collapsed": true
   },
   "outputs": [],
   "source": [
    "from __future__ import absolute_import,division,print_function\n",
    "import tensorflow as tf\n",
    "import tensorflow.keras as keras\n",
    "import numpy as np\n",
    "import matplotlib.pyplot as plt"
   ]
  },
  {
   "cell_type": "code",
   "execution_count": 8,
   "metadata": {
    "collapsed": true
   },
   "outputs": [],
   "source": [
    "# Hyper Parameters\n",
    "learning_rate=0.01\n",
    "training_epochs=1000\n",
    "display_step=50"
   ]
  },
  {
   "cell_type": "code",
   "execution_count": 9,
   "metadata": {
    "collapsed": true
   },
   "outputs": [],
   "source": [
    "# Training Data\n",
    "train_X = np.asarray([3.3,4.4,5.5,6.71,6.93,4.168,9.779,6.182,7.59,2.167,\n",
    "                         7.042,10.791,5.313,7.997,5.654,9.27,3.1])\n",
    "train_Y = np.asarray([1.7,2.76,2.09,3.19,1.694,1.573,3.366,2.596,2.53,1.221,\n",
    "                         2.827,3.465,1.65,2.904,2.42,2.94,1.3])\n",
    "n_samples = train_X.shape[0]"
   ]
  },
  {
   "cell_type": "code",
   "execution_count": 10,
   "metadata": {},
   "outputs": [
    {
     "name": "stdout",
     "output_type": "stream",
     "text": [
      "(17,)\n",
      "(17,)\n"
     ]
    }
   ],
   "source": [
    "print(train_X.shape)\n",
    "print(train_Y.shape)"
   ]
  },
  {
   "cell_type": "code",
   "execution_count": 11,
   "metadata": {},
   "outputs": [
    {
     "data": {
      "image/png": "[encoded data removed]",
      "text/plain": [
       "<Figure size 432x288 with 1 Axes>"
      ]
     },
     "metadata": {
      "needs_background": "light"
     },
     "output_type": "display_data"
    }
   ],
   "source": [
    "plt.scatter(train_X,train_Y)\n",
    "plt.show()"
   ]
  },
  {
   "cell_type": "code",
   "execution_count": 12,
   "metadata": {},
   "outputs": [
    {
     "name": "stdout",
     "output_type": "stream",
     "text": [
      "17\n",
      "1\n",
      "17\n",
      "17\n"
     ]
    }
   ],
   "source": [
    "print(np.size(train_X))\n",
    "print(np.size(train_X[0]))\n",
    "print(np.size(train_Y))\n",
    "print(n_samples)"
   ]
  },
  {
   "cell_type": "code",
   "execution_count": 14,
   "metadata": {},
   "outputs": [],
   "source": [
    "class Model(object):\n",
    "    def __init__(self,x,y):\n",
    "#         self.W = tf.Variable(tf.random.normal((1, 1)))\n",
    "        self.W = tf.Variable(tf.random.normal((1,)))\n",
    "        self.b = tf.Variable(tf.random.normal((1,)))\n",
    "#         self.W = tf.Variable(np.random.randn(),name=\"weight\")  \n",
    "#         self.b = tf.Variable(np.random.randn(),name=\"bias\")  \n",
    "        \n",
    "    def __call__(self,x):\n",
    "        return self.W*x+self.b\n",
    "    \n",
    "def loss(y_pred,y_true):\n",
    "#     return tf.reduce_sum(tf.square(y_pred-y_true)/(2*n_samples))\n",
    "#     return tf.reduce_sum(tf.pow(y_pred-y_true,2)/(2*n_samples))\n",
    "    return tf.reduce_sum(tf.keras.losses.mean_absolute_error(y_pred,y_true))/(2*n_samples)"
   ]
  },
  {
   "cell_type": "code",
   "execution_count": 15,
   "metadata": {
    "collapsed": true
   },
   "outputs": [],
   "source": [
    "model=Model(train_X,train_Y)"
   ]
  },
  {
   "cell_type": "code",
   "execution_count": 16,
   "metadata": {
    "collapsed": true
   },
   "outputs": [],
   "source": [
    "# optimizer=tf.optimizers.SGD(learning_rate)\n",
    "\n",
    "def train(model,inputs,outputs):\n",
    "    for step in range(1,training_epochs+1):\n",
    "        with tf.GradientTape() as gt:\n",
    "            current_loss=loss(model(inputs),outputs)\n",
    "\n",
    "        gradients=gt.gradient(current_loss,[model.W,model.b])\n",
    "        optimizer=tf.keras.optimizers.SGD(learning_rate)\n",
    "        optimizer.apply_gradients(zip(gradients,[model.W,model.b]))\n",
    "        \n",
    "        if step % display_step == 0:\n",
    "            print('step: %i, loss:%f, W:%f, b:%f'%(step,current_loss,model.W.numpy(),model.b.numpy()))  "
   ]
  },
  {
   "cell_type": "code",
   "execution_count": 17,
   "metadata": {},
   "outputs": [
    {
     "name": "stdout",
     "output_type": "stream",
     "text": [
      "step: 50, loss:0.009061, W:0.269843, b:0.537714\n",
      "step: 100, loss:0.008742, W:0.280970, b:0.540414\n",
      "step: 150, loss:0.008720, W:0.282223, b:0.541417\n",
      "step: 200, loss:0.008718, W:0.282715, b:0.542281\n",
      "step: 250, loss:0.008716, W:0.283207, b:0.543145\n",
      "step: 300, loss:0.008714, W:0.283699, b:0.544010\n",
      "step: 350, loss:0.008712, W:0.284190, b:0.544874\n",
      "step: 400, loss:0.008710, W:0.284682, b:0.545738\n",
      "step: 450, loss:0.008708, W:0.285174, b:0.546602\n",
      "step: 500, loss:0.008706, W:0.285666, b:0.547467\n",
      "step: 550, loss:0.008704, W:0.286157, b:0.548331\n",
      "step: 600, loss:0.008702, W:0.286649, b:0.549195\n",
      "step: 650, loss:0.008700, W:0.287141, b:0.550059\n",
      "step: 700, loss:0.008698, W:0.287633, b:0.550924\n",
      "step: 750, loss:0.008696, W:0.287786, b:0.551753\n",
      "step: 800, loss:0.008695, W:0.287601, b:0.552549\n",
      "step: 850, loss:0.008694, W:0.287416, b:0.553344\n",
      "step: 900, loss:0.008693, W:0.287231, b:0.554139\n",
      "step: 950, loss:0.008691, W:0.287384, b:0.554968\n",
      "step: 1000, loss:0.008690, W:0.287199, b:0.555764\n"
     ]
    }
   ],
   "source": [
    "train(model,train_X,train_Y)"
   ]
  },
  {
   "cell_type": "code",
   "execution_count": 18,
   "metadata": {},
   "outputs": [
    {
     "name": "stdout",
     "output_type": "stream",
     "text": [
      "<tf.Variable 'Variable:0' shape=(1,) dtype=float32, numpy=array([0.28719926], dtype=float32)>\n",
      "<tf.Variable 'Variable:0' shape=(1,) dtype=float32, numpy=array([0.5557636], dtype=float32)>\n",
      "tf.Tensor(\n",
      "[1.5035212 1.8194404 2.1353595 2.4828706 2.5460544 1.7528101 3.3642855\n",
      " 2.3312294 2.7356062 1.1781244 2.5782208 3.654931  2.0816534 2.8524961\n",
      " 2.1795883 3.218101  1.4460813], shape=(17,), dtype=float32)\n"
     ]
    }
   ],
   "source": [
    "print(model.W)\n",
    "print(model.b)\n",
    "print(model.W*train_X+model.b)"
   ]
  },
  {
   "cell_type": "code",
   "execution_count": 19,
   "metadata": {},
   "outputs": [
    {
     "name": "stderr",
     "output_type": "stream",
     "text": [
      "No handles with labels found to put in legend.\n"
     ]
    },
    {
     "data": {
      "image/png": "[encoded data removed]",
      "text/plain": [
       "<Figure size 432x288 with 1 Axes>"
      ]
     },
     "metadata": {
      "needs_background": "light"
     },
     "output_type": "display_data"
    }
   ],
   "source": [
    "plt.plot(train_X,train_Y,'*')\n",
    "plt.plot(train_X,np.array(model.W*train_X+model.b),'r')\n",
    "plt.legend()\n",
    "plt.show()"
   ]
  }
 ],
 "metadata": {
  "kernelspec": {
   "display_name": "Python [conda env:tensorflowEnvs]",
   "language": "python",
   "name": "conda-env-tensorflowEnvs-py"
  },
  "language_info": {
   "codemirror_mode": {
    "name": "ipython",
    "version": 3
   },
   "file_extension": ".py",
   "mimetype": "text/x-python",
   "name": "python",
   "nbconvert_exporter": "python",
   "pygments_lexer": "ipython3",
   "version": "3.8.1"
  }
 },
 "nbformat": 4,
 "nbformat_minor": 2
}
