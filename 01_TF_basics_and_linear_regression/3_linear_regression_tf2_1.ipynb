{
 "cells": [
  {
   "cell_type": "markdown",
   "metadata": {},
   "source": [
    "参考：https://www.soinside.com/question/RVXmV6GAo5Hs4Kj4QrYXTe"
   ]
  },
  {
   "cell_type": "code",
   "execution_count": null,
   "metadata": {
    "collapsed": true
   },
   "outputs": [],
   "source": [
    "from __future__ import absolute_import,division,print_function\n",
    "import tensorflow as tf\n",
    "import numpy as np\n",
    "import matplotlib.pyplot as plt"
   ]
  },
  {
   "cell_type": "code",
   "execution_count": 2,
   "metadata": {
    "collapsed": true
   },
   "outputs": [],
   "source": [
    "# Hyper Parameters\n",
    "learning_rate=0.01\n",
    "training_epochs=1000\n",
    "display_step=50"
   ]
  },
  {
   "cell_type": "code",
   "execution_count": 3,
   "metadata": {
    "collapsed": true
   },
   "outputs": [],
   "source": [
    "# Training Data\n",
    "train_X = np.asarray([3.3,4.4,5.5,6.71,6.93,4.168,9.779,6.182,7.59,2.167,\n",
    "                         7.042,10.791,5.313,7.997,5.654,9.27,3.1])\n",
    "train_Y = np.asarray([1.7,2.76,2.09,3.19,1.694,1.573,3.366,2.596,2.53,1.221,\n",
    "                         2.827,3.465,1.65,2.904,2.42,2.94,1.3])\n",
    "n_samples = train_X.shape[0]"
   ]
  },
  {
   "cell_type": "code",
   "execution_count": 49,
   "metadata": {},
   "outputs": [
    {
     "name": "stdout",
     "output_type": "stream",
     "text": [
      "(17,)\n",
      "(17,)\n"
     ]
    }
   ],
   "source": [
    "print(train_X.shape)\n",
    "print(train_Y.shape)"
   ]
  },
  {
   "cell_type": "code",
   "execution_count": 4,
   "metadata": {},
   "outputs": [
    {
     "data": {
      "image/png": "[encoded data removed]",
      "text/plain": [
       "<Figure size 432x288 with 1 Axes>"
      ]
     },
     "metadata": {
      "needs_background": "light"
     },
     "output_type": "display_data"
    }
   ],
   "source": [
    "plt.scatter(train_X,train_Y)\n",
    "plt.show()"
   ]
  },
  {
   "cell_type": "code",
   "execution_count": 5,
   "metadata": {},
   "outputs": [
    {
     "name": "stdout",
     "output_type": "stream",
     "text": [
      "17\n",
      "1\n",
      "17\n",
      "17\n"
     ]
    }
   ],
   "source": [
    "print(np.size(train_X))\n",
    "print(np.size(train_X[0]))\n",
    "print(np.size(train_Y))\n",
    "print(n_samples)"
   ]
  },
  {
   "cell_type": "code",
   "execution_count": 62,
   "metadata": {
    "collapsed": true
   },
   "outputs": [],
   "source": [
    "class Model(object):\n",
    "    def __init__(self,x,y):\n",
    "#         self.W = tf.Variable(tf.random.normal((1, 1)))\n",
    "        self.W = tf.Variable(tf.random.normal((1,)))\n",
    "        self.b = tf.Variable(tf.random.normal((1,)))\n",
    "#         self.W = tf.Variable(np.random.randn(),name=\"weight\")  \n",
    "#         self.b = tf.Variable(np.random.randn(),name=\"bias\")  \n",
    "        \n",
    "    def __call__(self,x):\n",
    "        return self.W*x+self.b\n",
    "    \n",
    "def loss(y_pred,y_true):\n",
    "#     return tf.reduce_sum(tf.square(y_pred-y_true)/(2*n_samples))\n",
    "    return tf.reduce_sum(tf.pow(y_pred-y_true,2)/(2*n_samples))"
   ]
  },
  {
   "cell_type": "code",
   "execution_count": 67,
   "metadata": {
    "collapsed": true
   },
   "outputs": [],
   "source": [
    "model=Model(train_X,train_Y)"
   ]
  },
  {
   "cell_type": "code",
   "execution_count": 68,
   "metadata": {},
   "outputs": [],
   "source": [
    "optimizer=tf.optimizers.SGD(learning_rate)\n",
    "\n",
    "def train(model,inputs,outputs):\n",
    "    for step in range(1,training_epochs+1):\n",
    "        with tf.GradientTape() as gt:\n",
    "            current_loss=loss(model(inputs),outputs)\n",
    "\n",
    "        gradients=gt.gradient(current_loss,[model.W,model.b])\n",
    "        optimizer.apply_gradients(zip(gradients,[model.W,model.b]))\n",
    "        \n",
    "        if step % display_step == 0:\n",
    "            print('step: %i, loss:%f, W:%f, b:%f'%(step,current_loss,model.W.numpy(),model.b.numpy()))  "
   ]
  },
  {
   "cell_type": "code",
   "execution_count": 69,
   "metadata": {},
   "outputs": [
    {
     "name": "stdout",
     "output_type": "stream",
     "text": [
      "step: 50, loss:0.210837, W:0.458848, b:-0.670244\n",
      "step: 100, loss:0.195522, W:0.446639, b:-0.583687\n",
      "step: 150, loss:0.181959, W:0.435149, b:-0.502229\n",
      "step: 200, loss:0.169946, W:0.424336, b:-0.425571\n",
      "step: 250, loss:0.159308, W:0.414160, b:-0.353429\n",
      "step: 300, loss:0.149886, W:0.404584, b:-0.285539\n",
      "step: 350, loss:0.141542, W:0.395572, b:-0.221648\n",
      "step: 400, loss:0.134152, W:0.387091, b:-0.161522\n",
      "step: 450, loss:0.127608, W:0.379110, b:-0.104939\n",
      "step: 500, loss:0.121811, W:0.371599, b:-0.051689\n",
      "step: 550, loss:0.116678, W:0.364531, b:-0.001578\n",
      "step: 600, loss:0.112132, W:0.357879, b:0.045582\n",
      "step: 650, loss:0.108106, W:0.351619, b:0.089962\n",
      "step: 700, loss:0.104540, W:0.345727, b:0.131728\n",
      "step: 750, loss:0.101382, W:0.340183, b:0.171033\n",
      "step: 800, loss:0.098585, W:0.334966, b:0.208021\n",
      "step: 850, loss:0.096109, W:0.330056, b:0.242831\n",
      "step: 900, loss:0.093915, W:0.325435, b:0.275589\n",
      "step: 950, loss:0.091972, W:0.321087, b:0.306418\n",
      "step: 1000, loss:0.090252, W:0.316995, b:0.335429\n"
     ]
    }
   ],
   "source": [
    "train(model,train_X,train_Y)"
   ]
  },
  {
   "cell_type": "code",
   "execution_count": 71,
   "metadata": {},
   "outputs": [
    {
     "name": "stdout",
     "output_type": "stream",
     "text": [
      "<tf.Variable 'Variable:0' shape=(1,) dtype=float32, numpy=array([0.3169948], dtype=float32)>\n",
      "<tf.Variable 'Variable:0' shape=(1,) dtype=float32, numpy=array([0.33542928], dtype=float32)>\n",
      "tf.Tensor(\n",
      "[1.381512  1.7302064 2.0789006 2.4624643 2.532203  1.6566637 3.4353213\n",
      " 2.2950912 2.7414196 1.022357  2.5677063 3.75612   2.0196226 2.8704367\n",
      " 2.1277177 3.273971  1.3181131], shape=(17,), dtype=float32)\n"
     ]
    }
   ],
   "source": [
    "print(model.W)\n",
    "print(model.b)\n",
    "print(model.W*train_X+model.b)"
   ]
  },
  {
   "cell_type": "code",
   "execution_count": 72,
   "metadata": {},
   "outputs": [
    {
     "name": "stderr",
     "output_type": "stream",
     "text": [
      "No handles with labels found to put in legend.\n"
     ]
    },
    {
     "data": {
      "image/png": "[encoded data removed]",
      "text/plain": [
       "<Figure size 432x288 with 1 Axes>"
      ]
     },
     "metadata": {
      "needs_background": "light"
     },
     "output_type": "display_data"
    }
   ],
   "source": [
    "plt.plot(train_X,train_Y,'*')\n",
    "plt.plot(train_X,np.array(model.W*train_X+model.b),'r')\n",
    "plt.legend()\n",
    "plt.show()"
   ]
  },
  {
   "cell_type": "code",
   "execution_count": null,
   "metadata": {
    "collapsed": true
   },
   "outputs": [],
   "source": []
  },
  {
   "cell_type": "code",
   "execution_count": null,
   "metadata": {
    "collapsed": true
   },
   "outputs": [],
   "source": []
  }
 ],
 "metadata": {
  "kernelspec": {
   "display_name": "Python [conda env:tensorflowEnvs]",
   "language": "python",
   "name": "conda-env-tensorflowEnvs-py"
  },
  "language_info": {
   "codemirror_mode": {
    "name": "ipython",
    "version": 3
   },
   "file_extension": ".py",
   "mimetype": "text/x-python",
   "name": "python",
   "nbconvert_exporter": "python",
   "pygments_lexer": "ipython3",
   "version": "3.8.1"
  }
 },
 "nbformat": 4,
 "nbformat_minor": 2
}
