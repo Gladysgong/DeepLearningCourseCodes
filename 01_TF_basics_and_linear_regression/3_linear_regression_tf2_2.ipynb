{
 "cells": [
  {
   "cell_type": "markdown",
   "metadata": {},
   "source": [
    "参考：http://go2coding.com/blog/show/260"
   ]
  },
  {
   "cell_type": "code",
   "execution_count": 1,
   "metadata": {
    "collapsed": true
   },
   "outputs": [],
   "source": [
    "from __future__ import absolute_import, division, print_function  \n",
    "import tensorflow as tf  \n",
    "import numpy as np  \n",
    "rng = np.random "
   ]
  },
  {
   "cell_type": "code",
   "execution_count": 2,
   "metadata": {
    "collapsed": true
   },
   "outputs": [],
   "source": [
    "# Hyper paramemters\n",
    "learning_rate = 0.01  \n",
    "training_steps = 1000  \n",
    "display_step = 50"
   ]
  },
  {
   "cell_type": "code",
   "execution_count": 3,
   "metadata": {
    "collapsed": true
   },
   "outputs": [],
   "source": [
    "# training data\n",
    "X = np.array([3.3,4.4,5.5,6.71,6.93,4.168,9.779,6.182,7.59,2.167,  \n",
    "              7.042,10.791,5.313,7.997,5.654,9.27,3.1])  \n",
    "Y = np.array([1.7,2.76,2.09,3.19,1.694,1.573,3.366,2.596,2.53,1.221,  \n",
    "              2.827,3.465,1.65,2.904,2.42,2.94,1.3])  \n",
    "n_samples = X.shape[0]  "
   ]
  },
  {
   "cell_type": "code",
   "execution_count": 4,
   "metadata": {
    "collapsed": true
   },
   "outputs": [],
   "source": [
    "# 随机初始化权重，偏置  \n",
    "W = tf.Variable(rng.randn(),name=\"weight\")  \n",
    "b = tf.Variable(rng.randn(),name=\"bias\")  "
   ]
  },
  {
   "cell_type": "code",
   "execution_count": 5,
   "metadata": {
    "collapsed": true
   },
   "outputs": [],
   "source": [
    "# 线性回归(Wx+b)  \n",
    "def linear_regression(x):  \n",
    "    return W * x + b  "
   ]
  },
  {
   "cell_type": "code",
   "execution_count": 6,
   "metadata": {
    "collapsed": true
   },
   "outputs": [],
   "source": [
    "# 均方差  \n",
    "def mean_square(y_pred,y_true):  \n",
    "    return tf.reduce_sum(tf.pow(y_pred-y_true,2)) / (2 * n_samples)  "
   ]
  },
  {
   "cell_type": "code",
   "execution_count": 7,
   "metadata": {
    "collapsed": true
   },
   "outputs": [],
   "source": [
    "# 随机梯度下降优化器  \n",
    "optimizer = tf.optimizers.SGD(learning_rate)  "
   ]
  },
  {
   "cell_type": "code",
   "execution_count": 8,
   "metadata": {
    "collapsed": true
   },
   "outputs": [],
   "source": [
    "# 优化过程  \n",
    "def run_optimization():  \n",
    "    # 将计算封装在GradientTape中以实现自动微分  \n",
    "    with tf.GradientTape() as g:  \n",
    "        pred = linear_regression(X)  \n",
    "        loss = mean_square(pred,Y)  \n",
    "\n",
    "    # 计算梯度  \n",
    "    gradients = g.gradient(loss,[W,b])  \n",
    "\n",
    "    # 按gradients更新 W 和 b  \n",
    "    optimizer.apply_gradients(zip(gradients,[W,b]))  "
   ]
  },
  {
   "cell_type": "code",
   "execution_count": 9,
   "metadata": {},
   "outputs": [
    {
     "name": "stdout",
     "output_type": "stream",
     "text": [
      "step: 50, loss: 0.089860, W: 0.316104, b: 0.341745\n",
      "step: 100, loss: 0.088381, W: 0.312305, b: 0.368675\n",
      "step: 150, loss: 0.087071, W: 0.308731, b: 0.394019\n",
      "step: 200, loss: 0.085911, W: 0.305366, b: 0.417869\n",
      "step: 250, loss: 0.084884, W: 0.302201, b: 0.440314\n",
      "step: 300, loss: 0.083974, W: 0.299221, b: 0.461436\n",
      "step: 350, loss: 0.083168, W: 0.296417, b: 0.481314\n",
      "step: 400, loss: 0.082455, W: 0.293779, b: 0.500021\n",
      "step: 450, loss: 0.081823, W: 0.291296, b: 0.517625\n",
      "step: 500, loss: 0.081263, W: 0.288959, b: 0.534193\n",
      "step: 550, loss: 0.080767, W: 0.286760, b: 0.549784\n",
      "step: 600, loss: 0.080328, W: 0.284690, b: 0.564456\n",
      "step: 650, loss: 0.079939, W: 0.282742, b: 0.578264\n",
      "step: 700, loss: 0.079595, W: 0.280909, b: 0.591258\n",
      "step: 750, loss: 0.079290, W: 0.279185, b: 0.603487\n",
      "step: 800, loss: 0.079020, W: 0.277561, b: 0.614995\n",
      "step: 850, loss: 0.078781, W: 0.276034, b: 0.625825\n",
      "step: 900, loss: 0.078569, W: 0.274596, b: 0.636017\n",
      "step: 950, loss: 0.078382, W: 0.273243, b: 0.645608\n",
      "step: 1000, loss: 0.078215, W: 0.271970, b: 0.654635\n"
     ]
    }
   ],
   "source": [
    "# 针对给定训练步骤数开始训练  \n",
    "for step in range(1,training_steps + 1):  \n",
    "    # 运行优化以更新W和b值  \n",
    "    run_optimization()  \n",
    "\n",
    "    if step % display_step == 0:  \n",
    "        pred = linear_regression(X)  \n",
    "        loss = mean_square(pred, Y)  \n",
    "        print(\"step: %i, loss: %f, W: %f, b: %f\" % (step, loss, W.numpy(), b.numpy()))  "
   ]
  },
  {
   "cell_type": "code",
   "execution_count": 10,
   "metadata": {},
   "outputs": [
    {
     "data": {
      "image/png": "[encoded data removed]",
      "text/plain": [
       "<Figure size 432x288 with 1 Axes>"
      ]
     },
     "metadata": {
      "needs_background": "light"
     },
     "output_type": "display_data"
    }
   ],
   "source": [
    "import matplotlib.pyplot as plt  \n",
    "\n",
    "# 绘制图  \n",
    "plt.plot(X, Y, 'ro', label='Original data')  \n",
    "plt.plot(X, np.array(W * X + b), label='Fitted line')  \n",
    "plt.legend()  \n",
    "plt.show()  "
   ]
  },
  {
   "cell_type": "code",
   "execution_count": null,
   "metadata": {
    "collapsed": true
   },
   "outputs": [],
   "source": []
  }
 ],
 "metadata": {
  "kernelspec": {
   "display_name": "Python [conda env:tensorflowEnvs]",
   "language": "python",
   "name": "conda-env-tensorflowEnvs-py"
  },
  "language_info": {
   "codemirror_mode": {
    "name": "ipython",
    "version": 3
   },
   "file_extension": ".py",
   "mimetype": "text/x-python",
   "name": "python",
   "nbconvert_exporter": "python",
   "pygments_lexer": "ipython3",
   "version": "3.8.1"
  }
 },
 "nbformat": 4,
 "nbformat_minor": 2
}
