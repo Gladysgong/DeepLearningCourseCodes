{
 "cells": [
  {
   "cell_type": "code",
   "execution_count": 2,
   "metadata": {
    "collapsed": true
   },
   "outputs": [],
   "source": [
    "import tensorflow as tf"
   ]
  },
  {
   "cell_type": "code",
   "execution_count": 8,
   "metadata": {},
   "outputs": [
    {
     "name": "stdout",
     "output_type": "stream",
     "text": [
      "tf.Tensor(100, shape=(), dtype=int32)\n"
     ]
    }
   ],
   "source": [
    "a=tf.constant(100)\n",
    "print(a)"
   ]
  },
  {
   "cell_type": "code",
   "execution_count": 9,
   "metadata": {},
   "outputs": [
    {
     "name": "stdout",
     "output_type": "stream",
     "text": [
      "tf.Tensor(\n",
      "[[1. 2. 3.]\n",
      " [4. 5. 6.]], shape=(2, 3), dtype=float32)\n"
     ]
    }
   ],
   "source": [
    "a = tf.constant([[1, 2, 3], [4, 5, 6]], dtype=tf.float32, name='a')\n",
    "print(a)"
   ]
  },
  {
   "cell_type": "code",
   "execution_count": 11,
   "metadata": {},
   "outputs": [
    {
     "name": "stdout",
     "output_type": "stream",
     "text": [
      "tf.Tensor(\n",
      "[[1 6 5]\n",
      " [2 3 4]], shape=(2, 3), dtype=int32)\n",
      "tf.Tensor([1 0 0], shape=(3,), dtype=int64)\n",
      "tf.Tensor([1 2], shape=(2,), dtype=int64)\n"
     ]
    }
   ],
   "source": [
    "a=tf.constant([[1,6,5],[2,3,4]])\n",
    "print(a)\n",
    "\n",
    "# tf.argmax(input,axis)根据axis取值的不同返回每行或者每列最大值的索引。\n",
    "# axis=0时比较每一列的元素，将每一列最大元素所在的索引记录下来，最后输出每一列最大元素所在的索引数组。\n",
    "# axis=1的时候，将每一行最大元素所在的索引记录下来，最后返回每一行最大元素所在的索引数组。\n",
    "print(tf.argmax(a,0))\n",
    "print(tf.argmax(a,1))"
   ]
  },
  {
   "cell_type": "code",
   "execution_count": 15,
   "metadata": {},
   "outputs": [
    {
     "name": "stdout",
     "output_type": "stream",
     "text": [
      "tf.Tensor(\n",
      "[[1 1 1]\n",
      " [2 2 2]], shape=(2, 3), dtype=int32)\n",
      "tf.Tensor(9, shape=(), dtype=int32)\n",
      "tf.Tensor([3 3 3], shape=(3,), dtype=int32)\n",
      "tf.Tensor([3 6], shape=(2,), dtype=int32)\n"
     ]
    }
   ],
   "source": [
    "a = tf.constant([[1, 1, 1], [2, 2, 2]])\n",
    "print(a)\n",
    "print(tf.reduce_sum(a))\n",
    "print(tf.reduce_sum(a,0))\n",
    "# print(tf.reduce_sum(a,0,keep_dims=True)) tf2.0中没有keep_dims\n",
    "print(tf.reduce_sum(a,1))\n"
   ]
  },
  {
   "cell_type": "code",
   "execution_count": 17,
   "metadata": {},
   "outputs": [
    {
     "name": "stdout",
     "output_type": "stream",
     "text": [
      "tf.Tensor(\n",
      "[[1 0 0]\n",
      " [0 1 1]], shape=(2, 3), dtype=int32)\n",
      "tf.Tensor(\n",
      "[[ True False False]\n",
      " [False  True  True]], shape=(2, 3), dtype=bool)\n",
      "tf.Tensor(\n",
      "[[False  True  True]\n",
      " [ True False False]], shape=(2, 3), dtype=bool)\n"
     ]
    }
   ],
   "source": [
    "a = tf.constant([[1, 0, 0], [0, 1, 1]])\n",
    "print(a)\n",
    "print(tf.equal(a,1))\n",
    "print(tf.not_equal(a,1))"
   ]
  },
  {
   "cell_type": "code",
   "execution_count": 19,
   "metadata": {},
   "outputs": [
    {
     "name": "stdout",
     "output_type": "stream",
     "text": [
      "tf.Tensor([-0.04289964  0.09093744  0.01092483], shape=(3,), dtype=float32)\n"
     ]
    }
   ],
   "source": [
    "# normal=tf.random_normal([3],stddev=0.1)\n",
    "normal=tf.random.normal([3],stddev=0.1) # tf2.0中改名了\n",
    "print(normal)"
   ]
  },
  {
   "cell_type": "code",
   "execution_count": 21,
   "metadata": {},
   "outputs": [
    {
     "name": "stdout",
     "output_type": "stream",
     "text": [
      "var:0\n",
      "<tf.Variable 'var:0' shape=(3,) dtype=float32, numpy=array([0.06447488, 0.00387952, 0.12176509], dtype=float32)>\n"
     ]
    }
   ],
   "source": [
    "var=tf.Variable(tf.random.normal([3],stddev=0.1),name='var')\n",
    "print(var.name)\n",
    "print(var)"
   ]
  },
  {
   "cell_type": "code",
   "execution_count": 23,
   "metadata": {},
   "outputs": [
    {
     "name": "stdout",
     "output_type": "stream",
     "text": [
      "my_var:0\n",
      "my_var:0\n"
     ]
    }
   ],
   "source": [
    "var2 = tf.Variable(tf.random.normal([2, 3], stddev=0.1), name='my_var')\n",
    "var3 = tf.Variable(tf.random.normal([2, 3], stddev=0.1), name='my_var')\n",
    "print(var2.name)\n",
    "print(var3.name)"
   ]
  },
  {
   "cell_type": "code",
   "execution_count": null,
   "metadata": {
    "collapsed": true
   },
   "outputs": [],
   "source": []
  }
 ],
 "metadata": {
  "kernelspec": {
   "display_name": "Python [conda env:tensorflowEnvs]",
   "language": "python",
   "name": "conda-env-tensorflowEnvs-py"
  },
  "language_info": {
   "codemirror_mode": {
    "name": "ipython",
    "version": 3
   },
   "file_extension": ".py",
   "mimetype": "text/x-python",
   "name": "python",
   "nbconvert_exporter": "python",
   "pygments_lexer": "ipython3",
   "version": "3.8.1"
  }
 },
 "nbformat": 4,
 "nbformat_minor": 2
}
